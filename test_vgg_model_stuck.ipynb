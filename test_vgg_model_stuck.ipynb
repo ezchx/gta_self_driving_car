{
 "cells": [
  {
   "cell_type": "markdown",
   "metadata": {},
   "source": [
    "## Import libraries"
   ]
  },
  {
   "cell_type": "code",
   "execution_count": 1,
   "metadata": {},
   "outputs": [
    {
     "data": {
      "application/javascript": [
       "IPython.notebook.set_autosave_interval(0)"
      ]
     },
     "metadata": {},
     "output_type": "display_data"
    },
    {
     "name": "stdout",
     "output_type": "stream",
     "text": [
      "Autosave disabled\n"
     ]
    },
    {
     "name": "stderr",
     "output_type": "stream",
     "text": [
      "Using TensorFlow backend.\n"
     ]
    }
   ],
   "source": [
    "%autosave 0\n",
    "import numpy as np\n",
    "from PIL import Image\n",
    "from mss import mss\n",
    "import cv2\n",
    "import time\n",
    "import pyautogui\n",
    "from skimage.measure import compare_ssim as ssim\n",
    "\n",
    "from keras.models import load_model\n",
    "from keras.applications.vgg16 import preprocess_input\n",
    "from keras.preprocessing import image\n",
    "import keras.backend as K"
   ]
  },
  {
   "cell_type": "code",
   "execution_count": null,
   "metadata": {},
   "outputs": [],
   "source": []
  },
  {
   "cell_type": "markdown",
   "metadata": {},
   "source": [
    "## Set variables"
   ]
  },
  {
   "cell_type": "code",
   "execution_count": 2,
   "metadata": {},
   "outputs": [],
   "source": [
    "sct = mss()\n",
    "monitor={'top':50,'left':60,'width':650,'height':485}\n",
    "\n",
    "width = 224\n",
    "height = 224\n",
    "\n",
    "i = 0\n",
    "old_screen = np.zeros(shape=(224,224,4), dtype='uint8')"
   ]
  },
  {
   "cell_type": "code",
   "execution_count": null,
   "metadata": {},
   "outputs": [],
   "source": []
  },
  {
   "cell_type": "markdown",
   "metadata": {},
   "source": [
    "## Reset GPU memory if resource exhausted error"
   ]
  },
  {
   "cell_type": "code",
   "execution_count": 3,
   "metadata": {},
   "outputs": [],
   "source": [
    "def limit_mem():\n",
    "    K.get_session().close()\n",
    "    cfg = K.tf.ConfigProto()\n",
    "    cfg.gpu_options.allow_growth = True\n",
    "    K.set_session(K.tf.Session(config=cfg))\n",
    "\n",
    "limit_mem()"
   ]
  },
  {
   "cell_type": "code",
   "execution_count": null,
   "metadata": {},
   "outputs": [],
   "source": []
  },
  {
   "cell_type": "markdown",
   "metadata": {},
   "source": [
    "## Driving commands"
   ]
  },
  {
   "cell_type": "code",
   "execution_count": 4,
   "metadata": {},
   "outputs": [],
   "source": [
    "def forward():\n",
    "    pyautogui.keyDown('w')\n",
    "    pyautogui.keyUp('w')"
   ]
  },
  {
   "cell_type": "code",
   "execution_count": 5,
   "metadata": {},
   "outputs": [],
   "source": [
    "def left():\n",
    "    pyautogui.keyDown('a')\n",
    "    pyautogui.keyDown('w')\n",
    "    pyautogui.keyUp('a')\n",
    "    pyautogui.keyUp('w')"
   ]
  },
  {
   "cell_type": "code",
   "execution_count": 6,
   "metadata": {},
   "outputs": [],
   "source": [
    "def right():\n",
    "    pyautogui.keyDown('d')\n",
    "    pyautogui.keyDown('w')\n",
    "    pyautogui.keyUp('d')\n",
    "    pyautogui.keyUp('w')"
   ]
  },
  {
   "cell_type": "code",
   "execution_count": 7,
   "metadata": {},
   "outputs": [],
   "source": [
    "def stuck():\n",
    "    pyautogui.keyDown('s')\n",
    "    pyautogui.keyDown('a')\n",
    "    time.sleep(2)\n",
    "    pyautogui.keyUp('s')\n",
    "    pyautogui.keyUp('a')"
   ]
  },
  {
   "cell_type": "code",
   "execution_count": null,
   "metadata": {},
   "outputs": [],
   "source": []
  },
  {
   "cell_type": "markdown",
   "metadata": {},
   "source": [
    "## Screen grab and process"
   ]
  },
  {
   "cell_type": "code",
   "execution_count": 8,
   "metadata": {},
   "outputs": [],
   "source": [
    "def grab_screen():\n",
    "    screen = np.array(sct.grab(monitor))\n",
    "    screen = cv2.resize(screen, (width, height))\n",
    "    return screen"
   ]
  },
  {
   "cell_type": "code",
   "execution_count": null,
   "metadata": {},
   "outputs": [],
   "source": []
  },
  {
   "cell_type": "markdown",
   "metadata": {},
   "source": [
    "## Main function"
   ]
  },
  {
   "cell_type": "code",
   "execution_count": null,
   "metadata": {},
   "outputs": [],
   "source": [
    "# load trained model\n",
    "model = load_model('keras_models/gtavc_rev.h5')\n",
    "\n",
    "print(\"running\")\n",
    "\n",
    "# pause to change to GTA windows\n",
    "time.sleep(2)\n",
    "\n",
    "while(True):\n",
    "\n",
    "    screen = grab_screen()\n",
    "    \n",
    "    # check for stuck vehicle every 5 frames\n",
    "    i += 1\n",
    "    if (i % 5 == 0):\n",
    "        img_var = ssim(old_screen, screen, multichannel=True)\n",
    "        \n",
    "        print(img_var)\n",
    "        if (img_var > 0.70):\n",
    "            stuck()\n",
    "        old_screen = screen\n",
    "    \n",
    "    screen_img = cv2.cvtColor(screen, cv2.COLOR_BGR2RGB)\n",
    "    screen_img = Image.fromarray(screen_img, 'RGB')\n",
    "    \n",
    "    # preprocess image for neural network\n",
    "    x = image.img_to_array(screen_img)\n",
    "    x = np.expand_dims(x, axis=0)\n",
    "    x = preprocess_input(x)\n",
    "    \n",
    "    prediction = model.predict(x)\n",
    "    #print(prediction)\n",
    "\n",
    "    max_prediction = prediction.argmax()\n",
    "\n",
    "    if (max_prediction == 0 or max_prediction == 2):\n",
    "        forward()\n",
    "        #print(\"forward\")\n",
    "        \n",
    "    elif (max_prediction == 1):\n",
    "        left()\n",
    "        #print(\"left\")\n",
    "    \n",
    "    elif (max_prediction == 3):\n",
    "        right()\n",
    "        #print(\"right\")\n",
    "\n",
    "    cv2.imshow('window', screen)\n",
    "\n",
    "    if (cv2.waitKey(25) & 0xFF == ord('q')):\n",
    "        cv2.destroyAllWindows()\n",
    "        break"
   ]
  },
  {
   "cell_type": "code",
   "execution_count": null,
   "metadata": {},
   "outputs": [],
   "source": []
  },
  {
   "cell_type": "code",
   "execution_count": null,
   "metadata": {},
   "outputs": [],
   "source": []
  },
  {
   "cell_type": "code",
   "execution_count": null,
   "metadata": {},
   "outputs": [],
   "source": []
  },
  {
   "cell_type": "code",
   "execution_count": null,
   "metadata": {},
   "outputs": [],
   "source": []
  },
  {
   "cell_type": "code",
   "execution_count": null,
   "metadata": {},
   "outputs": [],
   "source": []
  }
 ],
 "metadata": {
  "kernelspec": {
   "display_name": "Python 3",
   "language": "python",
   "name": "python3"
  },
  "language_info": {
   "codemirror_mode": {
    "name": "ipython",
    "version": 3
   },
   "file_extension": ".py",
   "mimetype": "text/x-python",
   "name": "python",
   "nbconvert_exporter": "python",
   "pygments_lexer": "ipython3",
   "version": "3.6.3"
  }
 },
 "nbformat": 4,
 "nbformat_minor": 2
}
