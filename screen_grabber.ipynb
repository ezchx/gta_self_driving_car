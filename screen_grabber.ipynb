{
 "cells": [
  {
   "cell_type": "markdown",
   "metadata": {},
   "source": [
    "## Import libraries"
   ]
  },
  {
   "cell_type": "code",
   "execution_count": 1,
   "metadata": {},
   "outputs": [
    {
     "data": {
      "application/javascript": [
       "IPython.notebook.set_autosave_interval(0)"
      ]
     },
     "metadata": {},
     "output_type": "display_data"
    },
    {
     "name": "stdout",
     "output_type": "stream",
     "text": [
      "Autosave disabled\n"
     ]
    }
   ],
   "source": [
    "%autosave 0\n",
    "\n",
    "from pynput import keyboard\n",
    "import time\n",
    "import os\n",
    "import numpy as np\n",
    "\n",
    "from mss import mss\n",
    "import cv2"
   ]
  },
  {
   "cell_type": "code",
   "execution_count": null,
   "metadata": {},
   "outputs": [],
   "source": []
  },
  {
   "cell_type": "markdown",
   "metadata": {},
   "source": [
    "## Set variables"
   ]
  },
  {
   "cell_type": "code",
   "execution_count": 2,
   "metadata": {},
   "outputs": [],
   "source": [
    "sct = mss()\n",
    "monitor={'top':50,'left':60,'width':650,'height':485}\n",
    "\n",
    "# set starting number of images when adding additional images\n",
    "forward_img_num = 24658\n",
    "left_img_num = 5011\n",
    "reverse_img_num = 826\n",
    "right_img_num = 5144"
   ]
  },
  {
   "cell_type": "code",
   "execution_count": null,
   "metadata": {},
   "outputs": [],
   "source": [
    "24658\n",
    "5011\n",
    "826\n",
    "5144\n",
    "35639"
   ]
  },
  {
   "cell_type": "markdown",
   "metadata": {},
   "source": [
    "## Screen grab and process"
   ]
  },
  {
   "cell_type": "code",
   "execution_count": 3,
   "metadata": {},
   "outputs": [],
   "source": [
    "def grab_screen():\n",
    "    screen = np.array(sct.grab(monitor))\n",
    "    screen = cv2.resize(screen, (224, 224))\n",
    "    return screen"
   ]
  },
  {
   "cell_type": "code",
   "execution_count": null,
   "metadata": {},
   "outputs": [],
   "source": []
  },
  {
   "cell_type": "markdown",
   "metadata": {},
   "source": [
    "## Keypress grab and image save"
   ]
  },
  {
   "cell_type": "code",
   "execution_count": 4,
   "metadata": {},
   "outputs": [],
   "source": [
    "def on_press(key):\n",
    "    \n",
    "    try:\n",
    "        if (key.char == 'w'):\n",
    "            global forward_img_num\n",
    "            forward_img_num += 1\n",
    "            screen = grab_screen()\n",
    "            img_dir = 'raw_data/train/forward/forward.' + str(forward_img_num) + '.jpg'\n",
    "            cv2.imwrite(img_dir, screen)\n",
    "            \n",
    "        if (key.char == 'a'):\n",
    "            global left_img_num\n",
    "            left_img_num += 1\n",
    "            screen = grab_screen()\n",
    "            img_dir = 'raw_data/train/left/left.' + str(left_img_num) + '.jpg'\n",
    "            cv2.imwrite(img_dir, screen)\n",
    "            \n",
    "        if (key.char == 's'):\n",
    "            global reverse_img_num\n",
    "            reverse_img_num += 1\n",
    "            screen = grab_screen()\n",
    "            img_dir = 'raw_data/train/reverse/reverse.' + str(reverse_img_num) + '.jpg'\n",
    "            cv2.imwrite(img_dir, screen)\n",
    "            \n",
    "        if (key.char == 'd'):\n",
    "            global right_img_num\n",
    "            right_img_num += 1\n",
    "            screen = grab_screen()\n",
    "            img_dir = 'raw_data/train/right/right.' + str(right_img_num) + '.jpg'\n",
    "            cv2.imwrite(img_dir, screen)\n",
    "\n",
    "\n",
    "    except AttributeError:\n",
    "        if (key == keyboard.Key.esc):\n",
    "            return False"
   ]
  },
  {
   "cell_type": "code",
   "execution_count": null,
   "metadata": {},
   "outputs": [],
   "source": []
  },
  {
   "cell_type": "markdown",
   "metadata": {},
   "source": [
    "## Main function"
   ]
  },
  {
   "cell_type": "code",
   "execution_count": 11,
   "metadata": {},
   "outputs": [],
   "source": [
    "if __name__ == \"__main__\":\n",
    "    \n",
    "    # pause while changing to GTA window\n",
    "    time.sleep(4)\n",
    "\n",
    "    # monitor keypress\n",
    "    with keyboard.Listener(on_press) as listener:\n",
    "        listener.join()"
   ]
  },
  {
   "cell_type": "code",
   "execution_count": 12,
   "metadata": {},
   "outputs": [
    {
     "name": "stdout",
     "output_type": "stream",
     "text": [
      "24658\n",
      "5011\n",
      "826\n",
      "5144\n",
      "35639\n"
     ]
    }
   ],
   "source": [
    "print(forward_img_num)\n",
    "print(left_img_num)\n",
    "print(reverse_img_num)\n",
    "print(right_img_num)\n",
    "print(forward_img_num+left_img_num+reverse_img_num+right_img_num)"
   ]
  },
  {
   "cell_type": "code",
   "execution_count": null,
   "metadata": {},
   "outputs": [],
   "source": [
    "19903\n",
    "3525\n",
    "749\n",
    "3763\n",
    "27940"
   ]
  }
 ],
 "metadata": {
  "kernelspec": {
   "display_name": "Python 3",
   "language": "python",
   "name": "python3"
  },
  "language_info": {
   "codemirror_mode": {
    "name": "ipython",
    "version": 3
   },
   "file_extension": ".py",
   "mimetype": "text/x-python",
   "name": "python",
   "nbconvert_exporter": "python",
   "pygments_lexer": "ipython3",
   "version": "3.6.3"
  }
 },
 "nbformat": 4,
 "nbformat_minor": 2
}
